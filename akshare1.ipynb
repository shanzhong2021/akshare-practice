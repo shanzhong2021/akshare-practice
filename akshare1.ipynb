{
 "cells": [
  {
   "cell_type": "code",
   "execution_count": 1,
   "metadata": {},
   "outputs": [],
   "source": [
    "#pip install akshare --upgrade\n"
   ]
  },
  {
   "cell_type": "code",
   "execution_count": 2,
   "metadata": {},
   "outputs": [],
   "source": [
    "import akshare as ak\n"
   ]
  },
  {
   "cell_type": "code",
   "execution_count": 3,
   "metadata": {
    "scrolled": true
   },
   "outputs": [
    {
     "name": "stdout",
     "output_type": "stream",
     "text": [
      "              open    high     low   close       volume  outstanding_share  \\\n",
      "date                                                                         \n",
      "2020-11-03  124.90  126.11  124.50  124.76   67876111.0       2.935213e+10   \n",
      "2020-11-04  125.43  126.11  124.50  125.30   50256088.0       2.935213e+10   \n",
      "2020-11-05  126.91  126.91  125.17  125.57   55873229.0       2.935213e+10   \n",
      "2020-11-06  125.70  126.51  125.17  125.97   63919592.0       2.935213e+10   \n",
      "2020-11-09  126.37  127.18  125.97  126.51   88937655.0       2.935213e+10   \n",
      "2020-11-10  127.04  128.65  126.64  126.91   84217864.0       2.935213e+10   \n",
      "2020-11-11  127.31  128.52  126.64  128.25   64171805.0       2.935213e+10   \n",
      "2020-11-12  127.71  127.85  126.51  126.51   51891050.0       2.935213e+10   \n",
      "2020-11-13  126.24  126.24  125.17  125.57   44910112.0       2.935213e+10   \n",
      "2020-11-16  125.84  126.91  125.70  126.78   31878052.0       2.935213e+10   \n",
      "2020-11-17  126.91  127.85  126.64  127.85   47293970.0       2.935213e+10   \n",
      "2020-11-18  127.85  131.07  127.45  130.13  109417513.0       2.935213e+10   \n",
      "2020-11-19  130.13  131.20  129.32  130.67   63840056.0       2.935213e+10   \n",
      "2020-11-20  129.86  130.40  128.92  129.73   46631360.0       2.935213e+10   \n",
      "\n",
      "            turnover  \n",
      "date                  \n",
      "2020-11-03  0.002312  \n",
      "2020-11-04  0.001712  \n",
      "2020-11-05  0.001904  \n",
      "2020-11-06  0.002178  \n",
      "2020-11-09  0.003030  \n",
      "2020-11-10  0.002869  \n",
      "2020-11-11  0.002186  \n",
      "2020-11-12  0.001768  \n",
      "2020-11-13  0.001530  \n",
      "2020-11-16  0.001086  \n",
      "2020-11-17  0.001611  \n",
      "2020-11-18  0.003728  \n",
      "2020-11-19  0.002175  \n",
      "2020-11-20  0.001589  \n"
     ]
    }
   ],
   "source": [
    "stock_hfq_df=ak.stock_zh_a_daily(symbol='sh600000', start_date='20201103',\\\n",
    "                                end_date='20201120', adjust='hfq')\n",
    "print(stock_hfq_df)"
   ]
  },
  {
   "cell_type": "code",
   "execution_count": 4,
   "metadata": {},
   "outputs": [],
   "source": [
    "df=stock_hfq_df\n",
    "df_select1=df[df['close'] / df['open']>1.03]\n",
    "select1_dates=df_select1.index"
   ]
  },
  {
   "cell_type": "code",
   "execution_count": 5,
   "metadata": {},
   "outputs": [
    {
     "data": {
      "text/plain": [
       "DatetimeIndex([], dtype='datetime64[ns]', name='date', freq=None)"
      ]
     },
     "execution_count": 5,
     "metadata": {},
     "output_type": "execute_result"
    }
   ],
   "source": [
    "select1_dates #none"
   ]
  },
  {
   "cell_type": "code",
   "execution_count": 6,
   "metadata": {},
   "outputs": [],
   "source": [
    "df_select2= df[df['close']/df['open']<0.995]\n",
    "select2_dates=df_select2.index"
   ]
  },
  {
   "cell_type": "code",
   "execution_count": 7,
   "metadata": {},
   "outputs": [
    {
     "data": {
      "text/plain": [
       "DatetimeIndex(['2020-11-05', '2020-11-12', '2020-11-13'], dtype='datetime64[ns]', name='date', freq=None)"
      ]
     },
     "execution_count": 7,
     "metadata": {},
     "output_type": "execute_result"
    }
   ],
   "source": [
    "select2_dates"
   ]
  },
  {
   "cell_type": "markdown",
   "metadata": {},
   "source": [
    "收盘价比开盘价下跌5%以上"
   ]
  },
  {
   "cell_type": "code",
   "execution_count": 8,
   "metadata": {},
   "outputs": [],
   "source": [
    "df_select3=df[df['open']/df['close'].shift(1) >1]\n",
    "select3_dates=df_select3.index"
   ]
  },
  {
   "cell_type": "code",
   "execution_count": 9,
   "metadata": {},
   "outputs": [
    {
     "data": {
      "text/plain": [
       "DatetimeIndex(['2020-11-04', '2020-11-05', '2020-11-06', '2020-11-09',\n",
       "               '2020-11-10', '2020-11-11', '2020-11-16', '2020-11-17'],\n",
       "              dtype='datetime64[ns]', name='date', freq=None)"
      ]
     },
     "execution_count": 9,
     "metadata": {},
     "output_type": "execute_result"
    }
   ],
   "source": [
    "select3_dates"
   ]
  },
  {
   "cell_type": "markdown",
   "metadata": {},
   "source": [
    "开盘价比前一天的收盘价高"
   ]
  },
  {
   "cell_type": "code",
   "execution_count": 10,
   "metadata": {},
   "outputs": [],
   "source": [
    "#假设17年开始每月第一个交易日买入1手，每年末卖出，至19年末卖出后收益为何？\n",
    "df_large=ak.stock_zh_a_daily(symbol='sh600000', start_date='20170101',\\\n",
    "                                end_date='20191231', adjust='hfq')\n",
    "invest_prices= df_large.resample(\"M\").first()['open']"
   ]
  },
  {
   "cell_type": "code",
   "execution_count": 11,
   "metadata": {},
   "outputs": [],
   "source": [
    "invest=0\n",
    "sell=0"
   ]
  },
  {
   "cell_type": "code",
   "execution_count": 12,
   "metadata": {},
   "outputs": [],
   "source": [
    "sell_prices=df_large.resample('Y').last()['close']\n"
   ]
  },
  {
   "cell_type": "code",
   "execution_count": 13,
   "metadata": {},
   "outputs": [
    {
     "data": {
      "text/plain": [
       "-4290.0"
      ]
     },
     "execution_count": 13,
     "metadata": {},
     "output_type": "execute_result"
    }
   ],
   "source": [
    "for year in range (2017 ,2020):\n",
    "    invest=invest+invest_prices[str(year)].sum()*100\n",
    "    hold =len(invest_prices[str(year)])*100\n",
    "    sell=sell+ sell_prices[str(year)].values[0] *hold\n",
    "gain=sell-invest\n",
    "gain"
   ]
  },
  {
   "cell_type": "code",
   "execution_count": null,
   "metadata": {},
   "outputs": [],
   "source": []
  }
 ],
 "metadata": {
  "kernelspec": {
   "display_name": "Python 3",
   "language": "python",
   "name": "python3"
  },
  "language_info": {
   "codemirror_mode": {
    "name": "ipython",
    "version": 3
   },
   "file_extension": ".py",
   "mimetype": "text/x-python",
   "name": "python",
   "nbconvert_exporter": "python",
   "pygments_lexer": "ipython3",
   "version": "3.8.1"
  }
 },
 "nbformat": 4,
 "nbformat_minor": 4
}
